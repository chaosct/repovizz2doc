{
 "cells": [
  {
   "cell_type": "markdown",
   "metadata": {},
   "source": [
    "Repovizz Authentication\n",
    "=======================\n",
    "\n",
    "To make requests to the API, a Client **will have to be authorized by both the user and repovizz**. To do that, the Client has first to request repovizz, which will authenticate and ask the user, to then generate a token that can be used by the client to access the API on behalf of the user.\n",
    "\n",
    "Some clarifying Oauth2 concepts:\n",
    "- _User_: An account registered in repoVizz. Users have usernames and passwords.\n",
    "- _Client_: A piece of software that access repoVizz on behalf of the User. Clients have ID and Secrets. Our example scripts are clients.\n",
    "- _Provider_: RepoVizz. It holds data and functionality of the User.\n",
    "\n",
    "So to run these scripts, you will need a repoVizz account. [You can create one for free here](http://repovizz2.upf.edu/user/register). One you have don that, you can register a Client. To do so, go to [new client form](http://repovizz2.upf.edu/new_client) and fill the details:\n",
    "- _Name_: The client's name\n",
    "- _Description_: The client's purpose\n",
    "- _Privacy_: Wether this client is for _public_ or _private_ use.\n",
    "- _Scopes_: Depending of the actions this client will perfor (reading datapacks, changing account details) you have to request a series of _scopes_. RepoVizz implements the following scopes (repoVizz will be adding more scopes):\n",
    "     - _basic_: This scope gives the Client full powers.\n",
    "- _Redirect URLs_: List of urls for redirection after authentication, one per line. To run the examples you only need to add `http://localhost:50009`. See [Redirects](#Redirects) for more info.\n",
    "\n",
    "\n",
    "After registering your client, you can fetch its _ID_ and _Secret_. Do it in the [clients list page](http://repovizz2.upf.edu/clients). Please keep the client secret, you know, _secret_. With those you can start using a script (Client) to perform actions through repovizz API.\n",
    "\n",
    "Repovizz Authentication Flow, briefly\n",
    "-------------------------------------\n",
    "\n",
    "\n",
    "\n",
    "Redirects\n",
    "---------\n",
    "\n"
   ]
  },
  {
   "cell_type": "code",
   "execution_count": null,
   "metadata": {
    "collapsed": true
   },
   "outputs": [],
   "source": []
  }
 ],
 "metadata": {
  "kernelspec": {
   "display_name": "Python 2",
   "language": "python",
   "name": "python2"
  },
  "language_info": {
   "codemirror_mode": {
    "name": "ipython",
    "version": 2
   },
   "file_extension": ".py",
   "mimetype": "text/x-python",
   "name": "python",
   "nbconvert_exporter": "python",
   "pygments_lexer": "ipython2",
   "version": "2.7.10"
  }
 },
 "nbformat": 4,
 "nbformat_minor": 1
}
