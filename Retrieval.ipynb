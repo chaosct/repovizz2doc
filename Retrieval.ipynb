{
 "cells": [
  {
   "cell_type": "markdown",
   "metadata": {},
   "source": [
    "Retrieve Datapack's data\n",
    "========================\n",
    "\n",
    "Repovizz2 can be used to retrieve datapacks with multimodal data, previously [uploaded](Upload.ipynb) by yourself or other users.\n",
    "\n",
    "We will use here the [repovizz2 client library](Authentication.ipynb) to ease the authentication, but it is basically a standard OAuth2 authentication."
   ]
  },
  {
   "cell_type": "code",
   "execution_count": 1,
   "metadata": {
    "collapsed": true
   },
   "outputs": [],
   "source": [
    "from repovizz2 import RepoVizzClient"
   ]
  },
  {
   "cell_type": "markdown",
   "metadata": {},
   "source": [
    "We will be using those modules:"
   ]
  },
  {
   "cell_type": "code",
   "execution_count": 2,
   "metadata": {
    "collapsed": true
   },
   "outputs": [],
   "source": [
    "import json\n",
    "# This is for the notebook\n",
    "from IPython.display import IFrame, display"
   ]
  },
  {
   "cell_type": "markdown",
   "metadata": {},
   "source": [
    "Now, some global parameters to connect to repovizz2"
   ]
  },
  {
   "cell_type": "code",
   "execution_count": 3,
   "metadata": {
    "collapsed": true
   },
   "outputs": [],
   "source": [
    "CLIENT_ID = \"4991097c-9a0c-4a56-a337-2b2177c5aa74\"\n",
    "CLIENT_SECRET = \"97c055e7-5dd1-49e8-a6da-126d58f07ce1\""
   ]
  },
  {
   "cell_type": "markdown",
   "metadata": {},
   "source": [
    "Repovizz2 authentication\n",
    "-----------------------\n",
    "\n",
    "We authenticate the client (this script) against repoVizz2 using a registered user. For more details on the authentication system see [repoVizz2 authentication](Authentication.ipynb).\n"
   ]
  },
  {
   "cell_type": "markdown",
   "metadata": {},
   "source": [
    "This will create an iframe in the notebook to authenticate the client, but you can open a new browser to do so, if you want"
   ]
  },
  {
   "cell_type": "code",
   "execution_count": 4,
   "metadata": {
    "collapsed": false
   },
   "outputs": [
    {
     "data": {
      "text/html": [
       "\n",
       "        <iframe\n",
       "            width=\"800\"\n",
       "            height=\"600\"\n",
       "            src=\"http://localhost:8080/oauth/authorize?response_type=code&client_id=4991097c-9a0c-4a56-a337-2b2177c5aa74&redirect_uri=http%3A%2F%2Flocalhost%3A50009&scope=basic&state=P8ZX07bHLRCSqBgHyllc10KYqKfCXx\"\n",
       "            frameborder=\"0\"\n",
       "            allowfullscreen\n",
       "        ></iframe>\n",
       "        "
      ],
      "text/plain": [
       "<IPython.lib.display.IFrame at 0x10dfecdd0>"
      ]
     },
     "metadata": {},
     "output_type": "display_data"
    }
   ],
   "source": [
    "repovizz_client = RepoVizzClient(client_id=CLIENT_ID,client_secret=CLIENT_SECRET, repovizz_url=\"http://localhost:8080\")\n",
    "authorization_url = repovizz_client.start_auth()\n",
    "repovizz_client.start_server(async=True)\n",
    "\n",
    "# print authorization_url # and click on it\n",
    "# - or -\n",
    "# import webbrowser\n",
    "# webbrowser.open(authorization_url)\n",
    "# - or -\n",
    "display(IFrame(authorization_url,800,600))"
   ]
  },
  {
   "cell_type": "code",
   "execution_count": 5,
   "metadata": {
    "collapsed": true
   },
   "outputs": [],
   "source": [
    "repovizz_client.finish_auth()"
   ]
  },
  {
   "cell_type": "markdown",
   "metadata": {},
   "source": [
    "Getting User basic information\n",
    "------------------------------\n",
    "\n",
    "We first get info about our identity. We can use /api/v1.0/user to get json information about the current logged user."
   ]
  },
  {
   "cell_type": "code",
   "execution_count": 6,
   "metadata": {
    "collapsed": false
   },
   "outputs": [],
   "source": [
    "myself = repovizz_client.get(\"/api/v1.0/user\")\n",
    "username = myself['username']\n",
    "userid = myself['id']"
   ]
  },
  {
   "cell_type": "markdown",
   "metadata": {},
   "source": [
    "Listing my datapacks\n",
    "--------------------"
   ]
  },
  {
   "cell_type": "code",
   "execution_count": 7,
   "metadata": {
    "collapsed": false
   },
   "outputs": [
    {
     "name": "stdout",
     "output_type": "stream",
     "text": [
      "[u'a4e6b685-afb8-4b40-9c61-6b7687db4723']\n"
     ]
    }
   ],
   "source": [
    "print myself['datapacks']"
   ]
  },
  {
   "cell_type": "markdown",
   "metadata": {},
   "source": [
    "Let's check the datapacks names using the `/api/v1.0/datapacks` url"
   ]
  },
  {
   "cell_type": "code",
   "execution_count": 8,
   "metadata": {
    "collapsed": false
   },
   "outputs": [
    {
     "name": "stdout",
     "output_type": "stream",
     "text": [
      "MYO_various\n"
     ]
    }
   ],
   "source": [
    "for dp in myself['datapacks']:\n",
    "    print repovizz_client.get('/api/v1.0/datapacks/{}'.format(dp))['name']"
   ]
  },
  {
   "cell_type": "markdown",
   "metadata": {},
   "source": [
    "Retrieve a Datapack\n",
    "-------------------"
   ]
  },
  {
   "cell_type": "code",
   "execution_count": 11,
   "metadata": {
    "collapsed": true
   },
   "outputs": [],
   "source": [
    "datapack_id = myself['datapacks'][0] #datapack id to retrieve\n",
    "datapack = repovizz_client.get('/api/v1.0/datapacks/{}'.format(datapack_id))"
   ]
  },
  {
   "cell_type": "markdown",
   "metadata": {},
   "source": [
    "This is the datapack structure. The first layer has metadata (owner, name, permissions...) and a member (`structure`) that is the datapack document."
   ]
  },
  {
   "cell_type": "code",
   "execution_count": 12,
   "metadata": {
    "collapsed": false
   },
   "outputs": [
    {
     "data": {
      "text/plain": [
       "{u'folder': None,\n",
       " u'group_edit_permissions': [],\n",
       " u'id': u'a4e6b685-afb8-4b40-9c61-6b7687db4723',\n",
       " u'name': u'MYO_various',\n",
       " u'owner': 1,\n",
       " u'structure': {u'children': [{u'class': u'data',\n",
       "    u'link': u'repovizz:9ec009d2ea38b6d600f793424739dcdc75bf8a7c',\n",
       "    u'meta': {u'mime': u'video/mp4; charset=binary'},\n",
       "    u'name': u'Video',\n",
       "    u'text': u'Handheld camera',\n",
       "    u'type': u'e44ab9c4-a1b5-4474-b806-ece64555ef2b'},\n",
       "   {u'class': u'data',\n",
       "    u'link': u'repovizz:a910ba389ca2847b6bf548fadad68ccebeee4f54',\n",
       "    u'meta': {u'mime': u'audio/x-wav; charset=binary'},\n",
       "    u'name': u'Audio',\n",
       "    u'text': u'Camera microphone',\n",
       "    u'type': u'48e3b5d2-c34c-459c-9a2d-0756c20d80de'},\n",
       "   {u'children': [{u'class': u'data',\n",
       "      u'link': u'repovizz:0162912010aa5cad7f6d16bb487b4300c7e76942',\n",
       "      u'name': u'EMG',\n",
       "      u'text': u'8-channel EMG data from the MYO armband',\n",
       "      u'type': u'0746bb48-9b92-4cd3-8d9e-3e1de13269eb'}],\n",
       "    u'class': u'container',\n",
       "    u'name': u'EMG',\n",
       "    u'text': u''},\n",
       "   {u'children': [{u'class': u'data',\n",
       "      u'link': u'repovizz:269011f97e51fce33447b83360a4af263c2101fe',\n",
       "      u'name': u'Accelerometer',\n",
       "      u'text': u'3-dimensional (XYZ) acceleration data',\n",
       "      u'type': u'ae13fb70-fa1e-47d8-9cd6-00cef4fe21cc'},\n",
       "     {u'class': u'data',\n",
       "      u'link': u'repovizz:34d6e7871c1e080736f1f3da92059c9795c1ab90',\n",
       "      u'name': u'Gyroscope',\n",
       "      u'text': u'3-dimensional (XYZ) gyroscope data',\n",
       "      u'type': u'35524338-dec5-40ca-a099-1fff42fb5460'},\n",
       "     {u'class': u'data',\n",
       "      u'link': u'repovizz:67ed051e3f6b998e7d72b55b84ce65008a30d7e8',\n",
       "      u'name': u'Orientation',\n",
       "      u'text': u'3-dimensional (yaw, pitch, roll) orientation calculated from quaternion data',\n",
       "      u'type': u'd4445fc6-0af0-42e0-979e-74a62b70b2ed'}],\n",
       "    u'class': u'container',\n",
       "    u'name': u'IMU',\n",
       "    u'text': u'Inertial Measurement Unit (IMU) data from the MYO armband'}],\n",
       "  u'info': {u'author': u'panpap',\n",
       "   u'description': u'Short datapack of MYO data coupled with video and audio.',\n",
       "   u'keywords': [u'MYO', u'audio', u'video', u'accelerometer', u'gyroscope'],\n",
       "   u'name': u'MYO_various'}}}"
      ]
     },
     "execution_count": 12,
     "metadata": {},
     "output_type": "execute_result"
    }
   ],
   "source": [
    "datapack"
   ]
  },
  {
   "cell_type": "markdown",
   "metadata": {},
   "source": [
    "The leaves of the document have links to the data files. If the link starts with `repovizz:` it means that the file is hosted on repovizz2."
   ]
  },
  {
   "cell_type": "code",
   "execution_count": 13,
   "metadata": {
    "collapsed": false
   },
   "outputs": [
    {
     "name": "stdout",
     "output_type": "stream",
     "text": [
      "repovizz:0162912010aa5cad7f6d16bb487b4300c7e76942\n"
     ]
    }
   ],
   "source": [
    "data_id = datapack['structure']['children'][2]['children'][0]['link']\n",
    "print data_id"
   ]
  },
  {
   "cell_type": "markdown",
   "metadata": {},
   "source": [
    "To query the file, remove the `repovizz:` prefix and fetch it with the `/api/v1.0/datapacks/{id}/content/{data_id}` url."
   ]
  },
  {
   "cell_type": "code",
   "execution_count": 14,
   "metadata": {
    "collapsed": false
   },
   "outputs": [],
   "source": [
    "#retrieve data\n",
    "data_id = data_id.split(':')[1] #remove prefix\n",
    "d = repovizz_client.get('/api/v1.0/datapacks/{}/content/{}'.format(datapack['id'],data_id),raw=True)"
   ]
  },
  {
   "cell_type": "code",
   "execution_count": 18,
   "metadata": {
    "collapsed": false
   },
   "outputs": [
    {
     "name": "stdout",
     "output_type": "stream",
     "text": [
      "[\n",
      "  [-1,1,0,-1,-1,-1,1,1  ],\n",
      "  [-2,-3,-1,-3,0,-2,-3,-2  ],\n",
      "  [-2,-3,-1,-3,0,-2,-3,-2  ],\n",
      "  [-1,-1,-1,-1,1,0,-1,-2  ],\n",
      "  [-1,-1,-1,0,0,0,-1,-1  ],\n",
      "  [-1,-1,-1,0,0,0,-1,-1  ],\n",
      "  [-1,-1,-1,0,0,0,-1,-1  ]\n"
     ]
    }
   ],
   "source": [
    "#this file is a json\n",
    "print d.text[:200]"
   ]
  },
  {
   "cell_type": "markdown",
   "metadata": {},
   "source": [
    "Continue with [Datapack Edition](Edition.ipynb)"
   ]
  },
  {
   "cell_type": "code",
   "execution_count": null,
   "metadata": {
    "collapsed": true
   },
   "outputs": [],
   "source": []
  }
 ],
 "metadata": {
  "kernelspec": {
   "display_name": "Python 2",
   "language": "python",
   "name": "python2"
  },
  "language_info": {
   "codemirror_mode": {
    "name": "ipython",
    "version": 2
   },
   "file_extension": ".py",
   "mimetype": "text/x-python",
   "name": "python",
   "nbconvert_exporter": "python",
   "pygments_lexer": "ipython2",
   "version": "2.7.10"
  }
 },
 "nbformat": 4,
 "nbformat_minor": 1
}
