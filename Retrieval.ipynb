{
 "cells": [
  {
   "cell_type": "markdown",
   "metadata": {},
   "source": [
    "Retrieve Datapack's data\n",
    "========================\n",
    "\n",
    "Repovizz2 can be used to retrieve datapacks with multimodal data, previously [uploaded](Upload.ipynb) by yourself or other users.\n",
    "\n",
    "We will use here the [repovizz2 client library](Authentication.ipynb) to ease the authentication, but it is basically a standard OAuth2 authentication."
   ]
  },
  {
   "cell_type": "code",
   "execution_count": 13,
   "metadata": {
    "collapsed": true
   },
   "outputs": [],
   "source": [
    "from repovizz2 import RepoVizzClient"
   ]
  },
  {
   "cell_type": "markdown",
   "metadata": {},
   "source": [
    "We will be using those modules:"
   ]
  },
  {
   "cell_type": "code",
   "execution_count": 14,
   "metadata": {
    "collapsed": true
   },
   "outputs": [],
   "source": [
    "import json\n",
    "# This is for the notebook\n",
    "from IPython.display import IFrame, display"
   ]
  },
  {
   "cell_type": "markdown",
   "metadata": {},
   "source": [
    "Now, some global parameters to connect to repovizz2"
   ]
  },
  {
   "cell_type": "code",
   "execution_count": 15,
   "metadata": {
    "collapsed": true
   },
   "outputs": [],
   "source": [
    "CLIENT_ID = \"4991097c-9a0c-4a56-a337-2b2177c5aa74\"\n",
    "CLIENT_SECRET = \"97c055e7-5dd1-49e8-a6da-126d58f07ce1\""
   ]
  },
  {
   "cell_type": "markdown",
   "metadata": {},
   "source": [
    "Repovizz2 authentication\n",
    "-----------------------\n",
    "\n",
    "We authenticate the client (this script) against repoVizz2 using a registered user. For more details on the authentication system see [repoVizz2 authentication](Authentication.ipynb).\n"
   ]
  },
  {
   "cell_type": "markdown",
   "metadata": {},
   "source": [
    "This will create an iframe in the notebook to authenticate the client, but you can open a new browser to do so, if you want"
   ]
  },
  {
   "cell_type": "code",
   "execution_count": 17,
   "metadata": {
    "collapsed": false
   },
   "outputs": [
    {
     "data": {
      "text/html": [
       "\n",
       "        <iframe\n",
       "            width=\"800\"\n",
       "            height=\"600\"\n",
       "            src=\"http://localhost:8080/oauth/authorize?response_type=code&client_id=4991097c-9a0c-4a56-a337-2b2177c5aa74&redirect_uri=http%3A%2F%2Flocalhost%3A50009&scope=basic&state=pQEBZiK1DGi8NZ6BLXThqvYbsjMzr5\"\n",
       "            frameborder=\"0\"\n",
       "            allowfullscreen\n",
       "        ></iframe>\n",
       "        "
      ],
      "text/plain": [
       "<IPython.lib.display.IFrame at 0x10dcf47d0>"
      ]
     },
     "metadata": {},
     "output_type": "display_data"
    }
   ],
   "source": [
    "repovizz_client = RepoVizzClient(client_id=CLIENT_ID,client_secret=CLIENT_SECRET, repovizz_url=\"http://localhost:8080\")\n",
    "authorization_url = repovizz_client.start_auth()\n",
    "repovizz_client.start_server(async=True)\n",
    "\n",
    "# print authorization_url # and click on it\n",
    "# - or -\n",
    "# import webbrowser\n",
    "# webbrowser.open(authorization_url)\n",
    "# - or -\n",
    "display(IFrame(authorization_url,800,600))"
   ]
  },
  {
   "cell_type": "code",
   "execution_count": 18,
   "metadata": {
    "collapsed": true
   },
   "outputs": [],
   "source": [
    "repovizz_client.finish_auth()"
   ]
  },
  {
   "cell_type": "markdown",
   "metadata": {},
   "source": [
    "Getting User basic information\n",
    "------------------------------\n",
    "\n",
    "We first get info about our identity. We can use /api/v1.0/user to get json information about the current logged user."
   ]
  },
  {
   "cell_type": "code",
   "execution_count": 19,
   "metadata": {
    "collapsed": false
   },
   "outputs": [],
   "source": [
    "myself = repovizz_client.get(\"/api/v1.0/user\")\n",
    "username = myself['username']\n",
    "userid = myself['id']"
   ]
  },
  {
   "cell_type": "markdown",
   "metadata": {},
   "source": [
    "Listing my datapacks\n",
    "--------------------"
   ]
  },
  {
   "cell_type": "code",
   "execution_count": 20,
   "metadata": {
    "collapsed": false
   },
   "outputs": [
    {
     "name": "stdout",
     "output_type": "stream",
     "text": [
      "[u'3a9eb4a1-407b-49b5-9e7d-ecad20def314']\n"
     ]
    }
   ],
   "source": [
    "print myself['datapacks']"
   ]
  },
  {
   "cell_type": "markdown",
   "metadata": {},
   "source": [
    "Let's check the datapacks names using the `/api/v1.0/datapacks` url"
   ]
  },
  {
   "cell_type": "code",
   "execution_count": 23,
   "metadata": {
    "collapsed": false
   },
   "outputs": [
    {
     "name": "stdout",
     "output_type": "stream",
     "text": [
      "MYO_various\n"
     ]
    }
   ],
   "source": [
    "for dp in myself['datapacks']:\n",
    "    print repovizz_client.get('/api/v1.0/datapacks/{}'.format(dp))['name']"
   ]
  },
  {
   "cell_type": "code",
   "execution_count": 26,
   "metadata": {
    "collapsed": true
   },
   "outputs": [],
   "source": [
    "datapack = repovizz_client.get('/api/v1.0/datapacks/{}'.format(myself['datapacks'][0]))"
   ]
  },
  {
   "cell_type": "code",
   "execution_count": 27,
   "metadata": {
    "collapsed": false
   },
   "outputs": [
    {
     "data": {
      "text/plain": [
       "{u'folder': None,\n",
       " u'group_edit_permissions': [],\n",
       " u'id': u'3a9eb4a1-407b-49b5-9e7d-ecad20def314',\n",
       " u'name': u'MYO_various',\n",
       " u'owner': 1,\n",
       " u'structure': {u'children': [{u'class': u'data',\n",
       "    u'link': u'repovizz:9ec009d2ea38b6d600f793424739dcdc75bf8a7c',\n",
       "    u'meta': {u'mime': u'video/mp4; charset=binary'},\n",
       "    u'name': u'Video',\n",
       "    u'text': u'Handheld camera',\n",
       "    u'type': u'e44ab9c4-a1b5-4474-b806-ece64555ef2b'},\n",
       "   {u'class': u'data',\n",
       "    u'link': u'repovizz:a910ba389ca2847b6bf548fadad68ccebeee4f54',\n",
       "    u'meta': {u'mime': u'audio/x-wav; charset=binary'},\n",
       "    u'name': u'Audio',\n",
       "    u'text': u'Camera microphone',\n",
       "    u'type': u'48e3b5d2-c34c-459c-9a2d-0756c20d80de'},\n",
       "   {u'children': [{u'class': u'data',\n",
       "      u'link': u'repovizz:a7bd73a0316c56f79e664b1901025be1f3db3f02',\n",
       "      u'name': u'EMG',\n",
       "      u'text': u'8-channel EMG data from the MYO armband',\n",
       "      u'type': u'0746bb48-9b92-4cd3-8d9e-3e1de13269eb'}],\n",
       "    u'class': u'container',\n",
       "    u'name': u'EMG',\n",
       "    u'text': u''},\n",
       "   {u'children': [{u'class': u'data',\n",
       "      u'link': u'repovizz:095735930d80c313dfb29cdb558645d44d89269e',\n",
       "      u'name': u'Accelerometer',\n",
       "      u'text': u'3-dimensional (XYZ) acceleration data',\n",
       "      u'type': u'ae13fb70-fa1e-47d8-9cd6-00cef4fe21cc'},\n",
       "     {u'class': u'data',\n",
       "      u'link': u'repovizz:c15b2a61444b9805e781b6a7194ab21df699677e',\n",
       "      u'name': u'Gyroscope',\n",
       "      u'text': u'3-dimensional (XYZ) gyroscope data',\n",
       "      u'type': u'35524338-dec5-40ca-a099-1fff42fb5460'},\n",
       "     {u'class': u'data',\n",
       "      u'link': u'repovizz:d657a300c1655c471a4d0517a348ba2dcae6e967',\n",
       "      u'name': u'Orientation',\n",
       "      u'text': u'3-dimensional (yaw, pitch, roll) orientation calculated from quaternion data',\n",
       "      u'type': u'd4445fc6-0af0-42e0-979e-74a62b70b2ed'}],\n",
       "    u'class': u'container',\n",
       "    u'name': u'IMU',\n",
       "    u'text': u'Inertial Measurement Unit (IMU) data from the MYO armband'}],\n",
       "  u'info': {u'author': u'panpap',\n",
       "   u'description': u'Short datapack of MYO data coupled with video and audio.',\n",
       "   u'keywords': [u'MYO', u'audio', u'video', u'accelerometer', u'gyroscope'],\n",
       "   u'name': u'MYO_various'}}}"
      ]
     },
     "execution_count": 27,
     "metadata": {},
     "output_type": "execute_result"
    }
   ],
   "source": [
    "datapack"
   ]
  },
  {
   "cell_type": "code",
   "execution_count": 43,
   "metadata": {
    "collapsed": false
   },
   "outputs": [
    {
     "name": "stdout",
     "output_type": "stream",
     "text": [
      "repovizz:a7bd73a0316c56f79e664b1901025be1f3db3f02\n"
     ]
    }
   ],
   "source": [
    "data_id = datapack['structure']['children'][2]['children'][0]['link']\n",
    "print data_id\n",
    "data_id = data_id.split(':')[1]"
   ]
  },
  {
   "cell_type": "code",
   "execution_count": 44,
   "metadata": {
    "collapsed": false
   },
   "outputs": [],
   "source": [
    "#retrieve data\n",
    "d = repovizz_client.get('/api/v1.0/datapacks/{}/content/{}'.format(datapack['id'],data_id),raw=True)"
   ]
  },
  {
   "cell_type": "code",
   "execution_count": 47,
   "metadata": {
    "collapsed": false
   },
   "outputs": [
    {
     "data": {
      "text/plain": [
       "u'-1,1,0,-1,-1,-1,1,1\\r-2,-3,-1,-3,0,-2,-3,-2\\r-2,-3,-1,-3,0,-2,-3,-2\\r-1,-1,-1,-1,1,0,-1,-2\\r-1,-1,-1,0,0'"
      ]
     },
     "execution_count": 47,
     "metadata": {},
     "output_type": "execute_result"
    }
   ],
   "source": [
    "#this is a csv\n",
    "d.text[:100]"
   ]
  }
 ],
 "metadata": {
  "kernelspec": {
   "display_name": "Python 2",
   "language": "python",
   "name": "python2"
  },
  "language_info": {
   "codemirror_mode": {
    "name": "ipython",
    "version": 2
   },
   "file_extension": ".py",
   "mimetype": "text/x-python",
   "name": "python",
   "nbconvert_exporter": "python",
   "pygments_lexer": "ipython2",
   "version": "2.7.10"
  }
 },
 "nbformat": 4,
 "nbformat_minor": 1
}
