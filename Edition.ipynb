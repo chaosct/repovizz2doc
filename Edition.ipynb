{
 "cells": [
  {
   "cell_type": "markdown",
   "metadata": {
    "slideshow": {
     "slide_type": "slide"
    }
   },
   "source": [
    "Datapack Edition\n",
    "================"
   ]
  },
  {
   "cell_type": "markdown",
   "metadata": {
    "collapsed": true
   },
   "source": [
    "Repovizz2 can be used to edit datapacks previously [uploaded](Upload.ipynb) by yourself or other users.\n",
    "\n",
    "We will use here the [repovizz2 client library](Authentication.ipynb) to ease the authentication, but it is basically a standard OAuth2 authentication.\n"
   ]
  },
  {
   "cell_type": "code",
   "execution_count": null,
   "metadata": {
    "collapsed": true,
    "slideshow": {
     "slide_type": "slide"
    }
   },
   "outputs": [],
   "source": [
    "from repovizz2 import RepoVizzClient"
   ]
  },
  {
   "cell_type": "markdown",
   "metadata": {},
   "source": [
    "We will be using those modules:"
   ]
  },
  {
   "cell_type": "code",
   "execution_count": null,
   "metadata": {
    "collapsed": true
   },
   "outputs": [],
   "source": [
    "import json\n",
    "# This is for the notebook\n",
    "from IPython.display import IFrame, display"
   ]
  },
  {
   "cell_type": "markdown",
   "metadata": {
    "slideshow": {
     "slide_type": "slide"
    }
   },
   "source": [
    "Now, some global parameters to connect to repovizz2"
   ]
  },
  {
   "cell_type": "code",
   "execution_count": null,
   "metadata": {
    "collapsed": true
   },
   "outputs": [],
   "source": [
    "CLIENT_ID = \"4991097c-9a0c-4a56-a337-2b2177c5aa74\"\n",
    "CLIENT_SECRET = \"97c055e7-5dd1-49e8-a6da-126d58f07ce1\""
   ]
  },
  {
   "cell_type": "markdown",
   "metadata": {
    "slideshow": {
     "slide_type": "slide"
    }
   },
   "source": [
    "Repovizz2 authentication\n",
    "-----------------------\n",
    "\n",
    "We authenticate the client (this script) against repoVizz2 using a registered user. For more details on the authentication system see [repoVizz2 authentication](Authentication.ipynb).\n",
    "\n",
    "This will create an iframe in the notebook to authenticate the client, but you can open a new browser to do so, if you want"
   ]
  },
  {
   "cell_type": "code",
   "execution_count": null,
   "metadata": {
    "collapsed": false,
    "slideshow": {
     "slide_type": "slide"
    }
   },
   "outputs": [],
   "source": [
    "repovizz_client = RepoVizzClient(client_id=CLIENT_ID,client_secret=CLIENT_SECRET)\n",
    "authorization_url = repovizz_client.start_auth()\n",
    "repovizz_client.start_server(async=True)\n",
    "\n",
    "# print authorization_url # and click on it\n",
    "# - or -\n",
    "# import webbrowser\n",
    "# webbrowser.open(authorization_url)\n",
    "# - or -\n",
    "display(IFrame(authorization_url,800,600))"
   ]
  },
  {
   "cell_type": "code",
   "execution_count": null,
   "metadata": {
    "collapsed": true
   },
   "outputs": [],
   "source": [
    "repovizz_client.finish_auth()"
   ]
  },
  {
   "cell_type": "markdown",
   "metadata": {
    "slideshow": {
     "slide_type": "slide"
    }
   },
   "source": [
    "Getting User basic information\n",
    "------------------------------\n",
    "\n",
    "We first get info about our identity. We can use /api/v1.0/user to get json information about the current logged user."
   ]
  },
  {
   "cell_type": "code",
   "execution_count": null,
   "metadata": {
    "collapsed": true
   },
   "outputs": [],
   "source": [
    "myself = repovizz_client.get(\"/api/v1.0/user\")\n",
    "username = myself['username']\n",
    "userid = myself['id']"
   ]
  },
  {
   "cell_type": "markdown",
   "metadata": {
    "slideshow": {
     "slide_type": "slide"
    }
   },
   "source": [
    "Get a datapack, to be edited\n",
    "----------------------------"
   ]
  },
  {
   "cell_type": "code",
   "execution_count": null,
   "metadata": {
    "collapsed": false
   },
   "outputs": [],
   "source": [
    "datapack_id = myself['datapacks'][0] #datapack id to retrieve\n",
    "datapack = repovizz_client.get('/api/v1.0/datapacks/{}'.format(datapack_id))"
   ]
  },
  {
   "cell_type": "code",
   "execution_count": null,
   "metadata": {
    "collapsed": false
   },
   "outputs": [],
   "source": [
    "print datapack.keys()"
   ]
  },
  {
   "cell_type": "markdown",
   "metadata": {
    "slideshow": {
     "slide_type": "slide"
    }
   },
   "source": [
    "Editing the Datapack\n",
    "--------------------\n",
    "\n",
    "To change a property, just post a dictionary with the modified elements"
   ]
  },
  {
   "cell_type": "code",
   "execution_count": null,
   "metadata": {
    "collapsed": false
   },
   "outputs": [],
   "source": [
    "repovizz_client.post(\n",
    "    \"/api/v1.0/datapacks/{}\".format(datapack_id),\n",
    "    json={\n",
    "        'name': \"New datapack Name\",\n",
    "    },\n",
    ")"
   ]
  },
  {
   "cell_type": "code",
   "execution_count": null,
   "metadata": {
    "collapsed": false
   },
   "outputs": [],
   "source": [
    "repovizz_client.get('/api/v1.0/datapacks/{}'.format(datapack_id))['name']"
   ]
  },
  {
   "cell_type": "markdown",
   "metadata": {
    "slideshow": {
     "slide_type": "slide"
    }
   },
   "source": [
    "To modify the document (`structure`) you need to resubmit it all again"
   ]
  },
  {
   "cell_type": "code",
   "execution_count": null,
   "metadata": {
    "collapsed": false
   },
   "outputs": [],
   "source": [
    "document = datapack['structure']\n",
    "print document['children'][0]['text']"
   ]
  },
  {
   "cell_type": "code",
   "execution_count": null,
   "metadata": {
    "collapsed": false
   },
   "outputs": [],
   "source": [
    "document['children'][0]['text'] = \"Camera\"\n",
    "repovizz_client.post(\n",
    "    \"/api/v1.0/datapacks/{}\".format(datapack_id),\n",
    "    json={\n",
    "        'structure': document,\n",
    "    },\n",
    ")"
   ]
  },
  {
   "cell_type": "code",
   "execution_count": null,
   "metadata": {
    "collapsed": false
   },
   "outputs": [],
   "source": [
    "repovizz_client.get('/api/v1.0/datapacks/{}'.format(datapack_id))['structure']['children'][0]['text']"
   ]
  },
  {
   "cell_type": "markdown",
   "metadata": {
    "slideshow": {
     "slide_type": "slide"
    }
   },
   "source": [
    "Adding a Data File\n",
    "------------------\n",
    "\n",
    "Let's modify the datapack by adding a new data file representing another sensor"
   ]
  },
  {
   "cell_type": "code",
   "execution_count": null,
   "metadata": {
    "collapsed": true
   },
   "outputs": [],
   "source": [
    "datapack = repovizz_client.get('/api/v1.0/datapacks/{}'.format(datapack_id))\n",
    "document = datapack['structure']"
   ]
  },
  {
   "cell_type": "code",
   "execution_count": null,
   "metadata": {
    "collapsed": false
   },
   "outputs": [],
   "source": [
    "document['children'][2]['children'].append({\n",
    "   u'class': u'data',\n",
    "   u'link': u'emg 2.json',\n",
    "   u'name': u'EMG 2',\n",
    "   u'text': u'8-channel EMG data from the MYO armband, 2',\n",
    "   u'type': u'0746bb48-9b92-4cd3-8d9e-3e1de13269eb'})"
   ]
  },
  {
   "cell_type": "code",
   "execution_count": null,
   "metadata": {
    "collapsed": false,
    "slideshow": {
     "slide_type": "slide"
    }
   },
   "outputs": [],
   "source": [
    "document['children'][0]['text'] = \"Camera\"\n",
    "repovizz_client.post(\n",
    "    \"/api/v1.0/datapacks/{}\".format(datapack_id),\n",
    "    json={\n",
    "        'structure': document,\n",
    "    },\n",
    ")"
   ]
  },
  {
   "cell_type": "markdown",
   "metadata": {
    "slideshow": {
     "slide_type": "slide"
    }
   },
   "source": [
    "Next, we upload the data file"
   ]
  },
  {
   "cell_type": "code",
   "execution_count": null,
   "metadata": {
    "collapsed": false
   },
   "outputs": [],
   "source": [
    "repovizz_client.get('/api/v1.0/datapacks/{}/content'.format(datapack_id)).keys()"
   ]
  },
  {
   "cell_type": "code",
   "execution_count": null,
   "metadata": {
    "collapsed": false
   },
   "outputs": [],
   "source": [
    "print repovizz_client.post(\n",
    "    '/api/v1.0/datapacks/{}/content/{}'.format(datapack_id,'emg 2.json'),\n",
    "    files={'file':open('MYO_example_datapack/emg 2.json')}\n",
    ")"
   ]
  }
 ],
 "metadata": {
  "celltoolbar": "Slideshow",
  "kernelspec": {
   "display_name": "Python 2",
   "language": "python",
   "name": "python2"
  },
  "language_info": {
   "codemirror_mode": {
    "name": "ipython",
    "version": 2
   },
   "file_extension": ".py",
   "mimetype": "text/x-python",
   "name": "python",
   "nbconvert_exporter": "python",
   "pygments_lexer": "ipython2",
   "version": "2.7.10"
  }
 },
 "nbformat": 4,
 "nbformat_minor": 1
}
