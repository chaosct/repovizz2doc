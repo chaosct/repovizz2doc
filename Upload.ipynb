{
 "cells": [
  {
   "cell_type": "markdown",
   "metadata": {},
   "source": [
    "Repovizz2 DataPack Upload Example\n",
    "=================================\n",
    "\n",
    "This notebook demonstrates basic datapack operations (upload and modify)\n",
    "\n",
    "We will use here the repovizz2 client library to ease the authentication, but it is basically a standard OAuth2 authentication."
   ]
  },
  {
   "cell_type": "code",
   "execution_count": 1,
   "metadata": {
    "collapsed": false
   },
   "outputs": [],
   "source": [
    "from repovizz2 import RepoVizzClient"
   ]
  },
  {
   "cell_type": "markdown",
   "metadata": {},
   "source": [
    "We will be using those modules:"
   ]
  },
  {
   "cell_type": "code",
   "execution_count": 2,
   "metadata": {
    "collapsed": false
   },
   "outputs": [],
   "source": [
    "import json\n",
    "# This is for the notebook\n",
    "from IPython.display import IFrame, display"
   ]
  },
  {
   "cell_type": "markdown",
   "metadata": {},
   "source": [
    "Now, some global parameters to connect to repovizz2"
   ]
  },
  {
   "cell_type": "code",
   "execution_count": 3,
   "metadata": {
    "collapsed": true
   },
   "outputs": [],
   "source": [
    "CLIENT_ID = \"4991097c-9a0c-4a56-a337-2b2177c5aa74\"\n",
    "CLIENT_SECRET = \"97c055e7-5dd1-49e8-a6da-126d58f07ce1\"\n"
   ]
  },
  {
   "cell_type": "markdown",
   "metadata": {},
   "source": [
    "Repovizz2 authentication\n",
    "-----------------------\n",
    "\n",
    "We authenticate the client (this script) against repoVizz using a registered user. For more details on the authentication system see [repoVizz authentication]().\n"
   ]
  },
  {
   "cell_type": "markdown",
   "metadata": {},
   "source": [
    "This will create an iframe in the notebook to authenticate the client, but you can open a new browser to do so, if you want"
   ]
  },
  {
   "cell_type": "code",
   "execution_count": 5,
   "metadata": {
    "collapsed": false
   },
   "outputs": [
    {
     "data": {
      "text/html": [
       "\n",
       "        <iframe\n",
       "            width=\"800\"\n",
       "            height=\"600\"\n",
       "            src=\"http://localhost:8080/oauth/authorize?response_type=code&client_id=4991097c-9a0c-4a56-a337-2b2177c5aa74&redirect_uri=http%3A%2F%2Flocalhost%3A50009&scope=basic&state=u5lRlPkK337xtjfur08HPBZA6dPaUX\"\n",
       "            frameborder=\"0\"\n",
       "            allowfullscreen\n",
       "        ></iframe>\n",
       "        "
      ],
      "text/plain": [
       "<IPython.lib.display.IFrame at 0x1114f0a90>"
      ]
     },
     "metadata": {},
     "output_type": "display_data"
    }
   ],
   "source": [
    "repovizz_client = RepoVizzClient(client_id=CLIENT_ID,client_secret=CLIENT_SECRET, repovizz_url=\"http://localhost:8080\")\n",
    "authorization_url = repovizz_client.start_auth()\n",
    "repovizz_client.start_server(async=True)\n",
    "\n",
    "# print authorization_url\n",
    "# - or -\n",
    "# import webbrowser\n",
    "# webbrowser.open(authorization_url)\n",
    "display(IFrame(authorization_url,800,600))"
   ]
  },
  {
   "cell_type": "code",
   "execution_count": 6,
   "metadata": {
    "collapsed": false
   },
   "outputs": [],
   "source": [
    "repovizz_client.finish_auth()\n",
    "#TODO: retrieve username from repovizz_client\n",
    "username = 'admin'"
   ]
  },
  {
   "cell_type": "markdown",
   "metadata": {
    "collapsed": false
   },
   "source": [
    "We will upload a new datapack"
   ]
  },
  {
   "cell_type": "code",
   "execution_count": 7,
   "metadata": {
    "collapsed": false
   },
   "outputs": [
    {
     "data": {
      "text/plain": [
       "{u'_links': {u'collection': u'/api/v1.0/users',\n",
       "  u'self': u'/api/v1.0/users/admin'},\n",
       " u'datapacks': [],\n",
       " u'email': u'admin@repovizz.upf.edu',\n",
       " u'folders': [],\n",
       " u'groups': [],\n",
       " u'username': u'admin'}"
      ]
     },
     "execution_count": 7,
     "metadata": {},
     "output_type": "execute_result"
    }
   ],
   "source": [
    "repovizz_client.get(\"/api/v1.0/users/\"+username)"
   ]
  },
  {
   "cell_type": "code",
   "execution_count": 11,
   "metadata": {
    "collapsed": false
   },
   "outputs": [
    {
     "data": {
      "text/plain": [
       "<Response [500]>"
      ]
     },
     "execution_count": 11,
     "metadata": {},
     "output_type": "execute_result"
    }
   ],
   "source": [
    "datapack_json = json.load(open('MYO_example_datapack/MYO_example_datapack.json'))\n",
    "repovizz_client.post(\n",
    "    \"/api/v1.0/datapacks\",\n",
    "    json={\n",
    "        'structure': datapack_json,\n",
    "        'name': datapack_json['info']['name'],\n",
    "        'owner': username,\n",
    "    },\n",
    "    raw=True\n",
    ")\n"
   ]
  },
  {
   "cell_type": "markdown",
   "metadata": {
    "collapsed": false,
    "scrolled": true
   },
   "source": [
    "Now we upload all the assets"
   ]
  },
  {
   "cell_type": "code",
   "execution_count": 9,
   "metadata": {
    "collapsed": false
   },
   "outputs": [],
   "source": [
    "datapack_json = json.load(open('MYO_example_datapack/MYO_example_datapack.json'))"
   ]
  },
  {
   "cell_type": "code",
   "execution_count": 10,
   "metadata": {
    "collapsed": false
   },
   "outputs": [
    {
     "data": {
      "text/plain": [
       "{u'children': [{u'class': u'data',\n",
       "   u'link': u'video.mp4',\n",
       "   u'meta': {u'mime': u'video/mp4; charset=binary'},\n",
       "   u'name': u'Video',\n",
       "   u'text': u'Handheld camera',\n",
       "   u'type': u'e44ab9c4-a1b5-4474-b806-ece64555ef2b'},\n",
       "  {u'class': u'data',\n",
       "   u'link': u'audio.wav',\n",
       "   u'meta': {u'mime': u'audio/x-wav; charset=binary'},\n",
       "   u'name': u'Audio',\n",
       "   u'text': u'Camera microphone',\n",
       "   u'type': u'48e3b5d2-c34c-459c-9a2d-0756c20d80de'},\n",
       "  {u'children': [{u'class': u'data',\n",
       "     u'link': u'emg.csv',\n",
       "     u'name': u'EMG',\n",
       "     u'text': u'8-channel EMG data from the MYO armband',\n",
       "     u'type': u'0746bb48-9b92-4cd3-8d9e-3e1de13269eb'}],\n",
       "   u'class': u'container',\n",
       "   u'name': u'EMG',\n",
       "   u'text': u''},\n",
       "  {u'children': [{u'class': u'data',\n",
       "     u'link': u'accelerometer.csv',\n",
       "     u'name': u'Accelerometer',\n",
       "     u'text': u'3-dimensional (XYZ) acceleration data',\n",
       "     u'type': u'ae13fb70-fa1e-47d8-9cd6-00cef4fe21cc'},\n",
       "    {u'class': u'data',\n",
       "     u'link': u'gyroscope.csv',\n",
       "     u'name': u'Gyroscope',\n",
       "     u'text': u'3-dimensional (XYZ) gyroscope data',\n",
       "     u'type': u'35524338-dec5-40ca-a099-1fff42fb5460'},\n",
       "    {u'class': u'data',\n",
       "     u'link': u'orientation.csv',\n",
       "     u'name': u'Orientation',\n",
       "     u'text': u'3-dimensional (yaw, pitch, roll) orientation calculated from quaternion data',\n",
       "     u'type': u'd4445fc6-0af0-42e0-979e-74a62b70b2ed'}],\n",
       "   u'class': u'container',\n",
       "   u'name': u'IMU',\n",
       "   u'text': u'Inertial Measurement Unit (IMU) data from the MYO armband'}],\n",
       " u'info': {u'author': u'panpap',\n",
       "  u'description': u'Short datapack of MYO data coupled with video and audio.',\n",
       "  u'keywords': [u'MYO', u'audio', u'video', u'accelerometer', u'gyroscope'],\n",
       "  u'name': u'MYO_various'}}"
      ]
     },
     "execution_count": 10,
     "metadata": {},
     "output_type": "execute_result"
    }
   ],
   "source": [
    "datapack_json"
   ]
  },
  {
   "cell_type": "code",
   "execution_count": null,
   "metadata": {
    "collapsed": false
   },
   "outputs": [],
   "source": [
    "print authorization_url"
   ]
  },
  {
   "cell_type": "code",
   "execution_count": null,
   "metadata": {
    "collapsed": true
   },
   "outputs": [],
   "source": []
  }
 ],
 "metadata": {
  "kernelspec": {
   "display_name": "Python 2",
   "language": "python",
   "name": "python2"
  },
  "language_info": {
   "codemirror_mode": {
    "name": "ipython",
    "version": 2
   },
   "file_extension": ".py",
   "mimetype": "text/x-python",
   "name": "python",
   "nbconvert_exporter": "python",
   "pygments_lexer": "ipython2",
   "version": "2.7.10"
  }
 },
 "nbformat": 4,
 "nbformat_minor": 0
}
