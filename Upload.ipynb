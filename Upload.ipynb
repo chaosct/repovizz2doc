{
 "cells": [
  {
   "cell_type": "markdown",
   "metadata": {},
   "source": [
    "Repovizz2 DataPack Upload Example\n",
    "=================================\n",
    "\n",
    "This notebook demonstrates basic datapack operations (upload and modify)\n",
    "\n",
    "We will use here the repovizz2 client library to ease the authentication, but it is basically a standard OAuth2 authentication."
   ]
  },
  {
   "cell_type": "code",
   "execution_count": 1,
   "metadata": {
    "collapsed": false
   },
   "outputs": [],
   "source": [
    "from repovizz2 import RepoVizzClient"
   ]
  },
  {
   "cell_type": "markdown",
   "metadata": {},
   "source": [
    "We will be using those modules:"
   ]
  },
  {
   "cell_type": "code",
   "execution_count": 2,
   "metadata": {
    "collapsed": false
   },
   "outputs": [],
   "source": [
    "import json\n",
    "# This is for the notebook\n",
    "from IPython.display import IFrame, display"
   ]
  },
  {
   "cell_type": "markdown",
   "metadata": {},
   "source": [
    "Now, some global parameters to connect to repovizz2"
   ]
  },
  {
   "cell_type": "code",
   "execution_count": 3,
   "metadata": {
    "collapsed": true
   },
   "outputs": [],
   "source": [
    "CLIENT_ID = \"4991097c-9a0c-4a56-a337-2b2177c5aa74\"\n",
    "CLIENT_SECRET = \"97c055e7-5dd1-49e8-a6da-126d58f07ce1\"\n"
   ]
  },
  {
   "cell_type": "markdown",
   "metadata": {},
   "source": [
    "Repovizz2 authentication\n",
    "-----------------------\n",
    "\n",
    "We authenticate the client (this script) against repoVizz2 using a registered user. For more details on the authentication system see [repoVizz2 authentication](Authentication.ipynb).\n"
   ]
  },
  {
   "cell_type": "markdown",
   "metadata": {},
   "source": [
    "This will create an iframe in the notebook to authenticate the client, but you can open a new browser to do so, if you want"
   ]
  },
  {
   "cell_type": "code",
   "execution_count": 4,
   "metadata": {
    "collapsed": false
   },
   "outputs": [
    {
     "data": {
      "text/html": [
       "\n",
       "        <iframe\n",
       "            width=\"800\"\n",
       "            height=\"600\"\n",
       "            src=\"http://localhost:8080/oauth/authorize?response_type=code&client_id=4991097c-9a0c-4a56-a337-2b2177c5aa74&redirect_uri=http%3A%2F%2Flocalhost%3A50009&scope=basic&state=kMrhh9SLjyNAK82rocfdVAv1LTUAI9\"\n",
       "            frameborder=\"0\"\n",
       "            allowfullscreen\n",
       "        ></iframe>\n",
       "        "
      ],
      "text/plain": [
       "<IPython.lib.display.IFrame at 0x10db5ccd0>"
      ]
     },
     "metadata": {},
     "output_type": "display_data"
    }
   ],
   "source": [
    "repovizz_client = RepoVizzClient(client_id=CLIENT_ID,client_secret=CLIENT_SECRET, repovizz_url=\"http://localhost:8080\")\n",
    "authorization_url = repovizz_client.start_auth()\n",
    "repovizz_client.start_server(async=True)\n",
    "\n",
    "# print authorization_url # and click on it\n",
    "# - or -\n",
    "# import webbrowser\n",
    "# webbrowser.open(authorization_url)\n",
    "# - or -\n",
    "display(IFrame(authorization_url,800,600))"
   ]
  },
  {
   "cell_type": "code",
   "execution_count": 5,
   "metadata": {
    "collapsed": false
   },
   "outputs": [],
   "source": [
    "repovizz_client.finish_auth()"
   ]
  },
  {
   "cell_type": "markdown",
   "metadata": {
    "collapsed": false
   },
   "source": [
    "We first get info about our identity. We can use `/api/v1.0/user` to get json information about the current logged user."
   ]
  },
  {
   "cell_type": "code",
   "execution_count": 6,
   "metadata": {
    "collapsed": false
   },
   "outputs": [],
   "source": [
    "myself = repovizz_client.get(\"/api/v1.0/user\")\n",
    "username = myself['username']\n",
    "userid = myself['id']"
   ]
  },
  {
   "cell_type": "markdown",
   "metadata": {},
   "source": [
    "Now we upload the datapack (without the data). The result of the call will include the upload datapack (item), including its ID. To do so, we post to `/api/v1.0/datapacks` with a new datapack using json."
   ]
  },
  {
   "cell_type": "code",
   "execution_count": 9,
   "metadata": {
    "collapsed": false
   },
   "outputs": [],
   "source": [
    "datapack_json = json.load(open('MYO_example_datapack/MYO_example_datapack.json'))\n",
    "result = repovizz_client.post(\n",
    "    \"/api/v1.0/datapacks\",\n",
    "    json={\n",
    "        'structure': datapack_json,\n",
    "        'name': datapack_json['info']['name'],\n",
    "        'owner': userid,\n",
    "    },\n",
    ")\n",
    "datapack = result['item']"
   ]
  },
  {
   "cell_type": "markdown",
   "metadata": {
    "collapsed": false,
    "scrolled": true
   },
   "source": [
    "Datapacks usually refer to external material, such as `csv` files, videos or audio. Those were'nt uploaded to the server yet. Instead, reference to their filenames were used as handles.\n",
    "\n",
    "To upload all the real assets, first we can ask for all the data files referenced in the datapack using `/api/v1.0/datapacks/{datapack_id}/content`. This returns us a list of the referenced filenames."
   ]
  },
  {
   "cell_type": "code",
   "execution_count": 10,
   "metadata": {
    "collapsed": false
   },
   "outputs": [
    {
     "data": {
      "text/plain": [
       "[u'accelerometer.json',\n",
       " u'video.mp4',\n",
       " u'gyroscope.json',\n",
       " u'orientation.json',\n",
       " u'audio.wav',\n",
       " u'emg.json']"
      ]
     },
     "execution_count": 10,
     "metadata": {},
     "output_type": "execute_result"
    }
   ],
   "source": [
    "datapack_id = datapack['id']\n",
    "data_in_datapack = repovizz_client.get('/api/v1.0/datapacks/{}/content'.format(datapack_id)).keys()\n",
    "data_in_datapack"
   ]
  },
  {
   "cell_type": "markdown",
   "metadata": {},
   "source": [
    "For each of those files, we have to send the actual content to be saved in the server. We can do that by posting to `/api/v1.0/datapacks/{datapack_id}/content/{content_id}` with the actual file attached.\n",
    "\n",
    "Repovizz2 will substitute the content identifier with a new one, using the format `repovizz:{hashcode}`, meaning that the contents of this file can be found in the repovizz2 server, with the _hashcode_ as its handle."
   ]
  },
  {
   "cell_type": "code",
   "execution_count": 11,
   "metadata": {
    "collapsed": false
   },
   "outputs": [
    {
     "name": "stdout",
     "output_type": "stream",
     "text": [
      "{u'id': u'269011f97e51fce33447b83360a4af263c2101fe'}\n",
      "{u'id': u'9ec009d2ea38b6d600f793424739dcdc75bf8a7c'}\n",
      "{u'id': u'34d6e7871c1e080736f1f3da92059c9795c1ab90'}\n",
      "{u'id': u'67ed051e3f6b998e7d72b55b84ce65008a30d7e8'}\n",
      "{u'id': u'a910ba389ca2847b6bf548fadad68ccebeee4f54'}\n",
      "{u'id': u'0162912010aa5cad7f6d16bb487b4300c7e76942'}\n"
     ]
    }
   ],
   "source": [
    "for fname in data_in_datapack:\n",
    "    print repovizz_client.post(\n",
    "        '/api/v1.0/datapacks/{}/content/{}'.format(datapack_id,fname),\n",
    "        files={fname:open('MYO_example_datapack/'+fname)}\n",
    "    )\n"
   ]
  },
  {
   "cell_type": "markdown",
   "metadata": {},
   "source": [
    "We can now check that indeed we changed the references to the contents in the datapack by quering again `/api/v1.0/datapacks/{datapack_id}/content`."
   ]
  },
  {
   "cell_type": "code",
   "execution_count": 12,
   "metadata": {
    "collapsed": false
   },
   "outputs": [
    {
     "data": {
      "text/plain": [
       "[u'repovizz:9ec009d2ea38b6d600f793424739dcdc75bf8a7c',\n",
       " u'repovizz:34d6e7871c1e080736f1f3da92059c9795c1ab90',\n",
       " u'repovizz:67ed051e3f6b998e7d72b55b84ce65008a30d7e8',\n",
       " u'repovizz:a910ba389ca2847b6bf548fadad68ccebeee4f54',\n",
       " u'repovizz:0162912010aa5cad7f6d16bb487b4300c7e76942',\n",
       " u'repovizz:269011f97e51fce33447b83360a4af263c2101fe']"
      ]
     },
     "execution_count": 12,
     "metadata": {},
     "output_type": "execute_result"
    }
   ],
   "source": [
    "data_in_datapack = repovizz_client.get('/api/v1.0/datapacks/{}/content'.format(datapack_id)).keys()\n",
    "data_in_datapack"
   ]
  },
  {
   "cell_type": "markdown",
   "metadata": {
    "collapsed": true
   },
   "source": [
    "With this step completed, we concluded uploading the datapack to repovizz2. See [Retrieval](Retrieval.ipynb) for the next steps."
   ]
  }
 ],
 "metadata": {
  "kernelspec": {
   "display_name": "Python 2",
   "language": "python",
   "name": "python2"
  },
  "language_info": {
   "codemirror_mode": {
    "name": "ipython",
    "version": 2
   },
   "file_extension": ".py",
   "mimetype": "text/x-python",
   "name": "python",
   "nbconvert_exporter": "python",
   "pygments_lexer": "ipython2",
   "version": "2.7.10"
  }
 },
 "nbformat": 4,
 "nbformat_minor": 0
}
